{
 "cells": [
  {
   "cell_type": "code",
   "execution_count": 13,
   "metadata": {},
   "outputs": [
    {
     "name": "stdout",
     "output_type": "stream",
     "text": [
      "[Errno 2] No such file or directory: './n9_rrs_rl/'\n",
      "/home/cleversonahum/Documents/ai6g/n9_rrs_rl\n"
     ]
    }
   ],
   "source": [
    "%cd ./n9_rrs_rl/"
   ]
  },
  {
   "cell_type": "markdown",
   "metadata": {},
   "source": [
    "# Simple scenario with 2 UEs and 2 basestations"
   ]
  },
  {
   "cell_type": "markdown",
   "metadata": {},
   "source": [
    "The configuration files are stored in the `n9_rrs_rl/env_config/` folder. We can edit the config file in order to deploy the desired communication system scenario. The `n9_rrs_rl/env_config/simple.yml` file in the cell below defines a scenario with 2 basestations, where each basestation has a bandwidth of 2Hz and 2 resource blocks (RBs - Allocation unit). Therefore, each RB corresponds to 1Hz in each basestation.\n",
    "\n",
    "In this simple scenario we consider only one slice, which can be assumed as a scenario without RAN slicing (since all the network belongs to the same slice).\n",
    "\n",
    "We have 2 UEs in the system, where each UE has a maximum buffer latency of 10 steps (or milliseconds in case you consider each step as 1ms), so every time a packet waits more than 10ms in the buffer it should be dropped. The maximum number of packets in the buffer are 20 and 10 packets for UE 1 and 2, respectively. So every time UE 1 has a full buffer status (20 packets in the buffer), it should drop the newly arrived packets since it does not have sufficient buffer space to store it. We define the packet size for each UE as 1 bit.\n",
    "\n",
    "The variable `basestation_ue_assoc` in the basestation config section indicates the UEs association for each basestation. It has a dimension $B$ x $U$, where $B$ is the total number of basestations and $U$ is the total number of UEs. The value 1 indicates that the UE is associated to the specified basestation and 0 otherwise. Therefore both UEs 1 and 2 are associated to basestations 1 and 2."
   ]
  },
  {
   "cell_type": "raw",
   "metadata": {},
   "source": [
    "# %load env_config/simple.yml\n",
    "---\n",
    "basestations:\n",
    "  max_number_basestations: 2\n",
    "  bandwidths: [2, 2]\n",
    "  carrier_frequencies: [28, 28]\n",
    "  num_available_rbs: [2, 2]\n",
    "  basestation_ue_assoc: [[1, 1], [1, 1]]\n",
    "  basestation_slice_assoc: [[1], [1]]\n",
    "slices:\n",
    "  max_number_slices: 1\n",
    "  slice_ue_assoc: [[1, 1]]\n",
    "  slice_req:\n",
    "    embb:\n",
    "      throughput: 10\n",
    "    urllc:\n",
    "      latency: 1\n",
    "    be:\n",
    "      long_throughput: 1\n",
    "ues:\n",
    "  max_number_ues: 2\n",
    "  max_buffer_latencies: [10, 10]\n",
    "  max_buffer_pkts: [20, 10]\n",
    "  pkt_sizes: [1, 1]\n",
    "associations:\n",
    "  timeline: []\n",
    "  basestation_ue_assoc: []\n",
    "  basestation_slice_assoc: []\n",
    "  slice_ue_assoc: []\n",
    "simulation:\n",
    "  simu_name: test\n",
    "  max_number_steps: 10\n",
    "  max_number_episodes: 1\n",
    "  hist_root_path: ./\n"
   ]
  },
  {
   "cell_type": "markdown",
   "metadata": {},
   "source": [
    "### Channel"
   ]
  },
  {
   "cell_type": "markdown",
   "metadata": {},
   "source": [
    "Different channel implementation can be stored into `n9_rrs_rl/channels/` folder. A simple channel implementation returning constant spectral efficiency values is implemented in the `n9_rrs_rl/channels/simple.py` (code cell below) file to facilitate to understand our simple scenario and the simulator functions. The `SimpleChannel` inherits from the Channel class of sixg_radio_mgmt simulator, where the function step needs to return the spectral efficiency values for each BS-UE-RB, so the `spectral_efficiencies` variable has dimensions $B$ x $U$ x $R$, where $B$ is the total number of basestations, $U$ is the total number of UEs, and $R$ is the total number of RBs in each basestation. Therefore, `spectral_efficiencies[b,u,r]` represents the spectral efficiency (bit/Hz) in the basestation $b$, for UE $u$ in the RB $r$.\n",
    "\n",
    "The `SimpleChannel` presented in the cell below (`n9_rrs_rl/channels/simple.py` file) always return a constant matrix with spectral efficiency values equals to 1 bit/Hz (`[ [[1, 1], [1, 1]], [[1, 1],[1, 1]] ]`). Therefore, every time a RB (1 Hz) is allocated to a UE, the UE will have a 1 bit/Hz throughput that corresponds to send one packet (since each packet has 1 bit). So each RB can transport one packet in our example.\n",
    "\n",
    "It is important to emphasize that the `step()` function from `Channel` class receives an argument corresponding to the UEs mobility information, so the spectral efficiency calculation could use mobility information when implementing a realistic channel implementation."
   ]
  },
  {
   "cell_type": "code",
   "execution_count": 14,
   "metadata": {},
   "outputs": [],
   "source": [
    "# %load channels/simple.py\n",
    "import numpy as np\n",
    "\n",
    "from sixg_radio_mgmt import Channel\n",
    "\n",
    "\n",
    "class SimpleChannel(Channel):\n",
    "    def __init__(\n",
    "        self,\n",
    "        max_number_ues: int,\n",
    "        max_number_basestations: int,\n",
    "        num_available_rbs: np.ndarray,\n",
    "        rng: np.random.Generator = np.random.default_rng(),\n",
    "    ) -> None:\n",
    "        super().__init__(\n",
    "            max_number_ues, max_number_basestations, num_available_rbs, rng\n",
    "        )\n",
    "\n",
    "    def step(\n",
    "        self, step_number: int, episode_number: int, mobilities: np.ndarray\n",
    "    ) -> np.ndarray:\n",
    "        spectral_efficiencies = [\n",
    "            np.ones((self.max_number_ues, self.num_available_rbs[i]))\n",
    "            for i in np.arange(self.max_number_basestations)\n",
    "        ]\n",
    "\n",
    "        return np.array(spectral_efficiencies)\n"
   ]
  },
  {
   "cell_type": "markdown",
   "metadata": {},
   "source": [
    "### Mobility"
   ]
  },
  {
   "cell_type": "markdown",
   "metadata": {},
   "source": [
    "Different mobility implementations can be stored into `n9_rrs_rl/mobilities/` folder. The Mobility files are responsible to generate the UEs movement and provide UE's localization, that could be used by the channel generation in case the Channel implementation uses it (as explained before). Note that in case you import channels from an external simulator, it already provides the spectral efficiencies for each UE in each RB, so it would not use the mobility information (since it already used it in the channel generation). Therefore, the mobility information will only be used in case you want to calculate the channel information online. Since we are considering that the `SimpleChannel` is returning constant spectral efficiency values, so there is no need to implement mobilities to the UEs, and we created a file `n9_rrs_rl/mobilities/simple.py` just to illustrate how it should work in case our scenario uses it.\n",
    "\n",
    "Similar to the `Channel`class, the `Mobility` class `step()` function returns a matrix with dimensions $U$ x $2$ with constant values. Where each line represents the 2-D localization coordinate of each UE in the scenario."
   ]
  },
  {
   "cell_type": "code",
   "execution_count": 15,
   "metadata": {},
   "outputs": [],
   "source": [
    "# %load mobilities/simple.py\n",
    "import numpy as np\n",
    "\n",
    "from sixg_radio_mgmt import Mobility\n",
    "\n",
    "\n",
    "class SimpleMobility(Mobility):\n",
    "    def __init__(\n",
    "        self, max_number_ues: int, rng: np.random.Generator = np.random.default_rng()\n",
    "    ) -> None:\n",
    "        super().__init__(max_number_ues, rng)\n",
    "\n",
    "    def step(self, step_number: int, episode_number: int) -> np.ndarray:\n",
    "        return np.ones((self.max_number_ues, 2))\n"
   ]
  },
  {
   "cell_type": "markdown",
   "metadata": {},
   "source": [
    "### Traffic"
   ]
  },
  {
   "cell_type": "markdown",
   "metadata": {},
   "source": [
    "The interpretation of the traffic flow in the simulator depends on the uplink or downlink assumption for the scenario. In case it assumes an uplink scenario, so the UEs generate data to be sent over the network to the basestation. In case it assumes a downlink scenario, the basestation generates the data to be sent over the network to the UEs. Let's assume an uplink scenario, so each UE generates data to be sent over the network to the basestation and its capacity to send information over the network depends on the number of RBs assigned to the UE and its spectral efficiency values.\n",
    "\n",
    "The `Traffic` implementation into `n9_rrs_rl/traffics/` folder are responsible to define the amount of data that each UE would like to send over the network in each simulation step. It is important to emphasize that this amount of data depends on the assumption of application running in the UE, e.g. a UE running a video streaming application will have a different traffic pattern than a UE sending an email.\n",
    "\n",
    "To facilitate our scenario interpretation, here we present a simple traffic scenario in `n9_rrs_rl/traffics/simple.py` file that return a constant number of bits per UE (traffic) as presented in the code cell below. The `step()` function needs to return a vector containing the traffic throughput requested by each UE in bits. In this `SimpleTraffic` implementation, we implemented that each UE will receive 4 bits per step to store in its buffer to be sent over the network after. Considering the scenario configuration, where each packet has a size of 1 bit, so each UE receives 4 packets per step."
   ]
  },
  {
   "cell_type": "code",
   "execution_count": 16,
   "metadata": {},
   "outputs": [],
   "source": [
    "# %load traffics/simple.py\n",
    "import numpy as np\n",
    "\n",
    "from sixg_radio_mgmt import Traffic\n",
    "\n",
    "\n",
    "class SimpleTraffic(Traffic):\n",
    "    def __init__(\n",
    "        self, max_number_ues: int, rng: np.random.Generator = np.random.default_rng()\n",
    "    ) -> None:\n",
    "        super().__init__(max_number_ues, rng)\n",
    "\n",
    "    def step(self, step_number: int, episode_number: int) -> np.ndarray:\n",
    "        return np.ones(self.max_number_ues) * 4\n"
   ]
  },
  {
   "cell_type": "markdown",
   "metadata": {},
   "source": [
    "### Agent"
   ]
  },
  {
   "cell_type": "markdown",
   "metadata": {},
   "source": [
    "Now that our scenario is configured and all the mobility, traffic and channel functions are defined, we can start to model our agent that will be the responsible to allocate the radio resources (aka RBs) available in the basestations to the UEs. Our agent implementations are organized in the folder `n9_rrs_rl/agents/`. We implemented a simple round-robing agent that equally distributes the RBs available among the UEs in the agent `n9_rrs_rl/agents/round_robin.py` shown in the code cell below.\n",
    "\n",
    "The `sixg_radio_mgmt` simulator provides an abstract class called `Agent` that shows all the required methods that the agent implementation should provide. In the case of our round-robin agent, we have the main function `step()` (similarly to the other classes) that is the responsible to allocate the RBs for each UE in each basestation. Let's start diving in the other auxiliary functions before diving into `step()` function.\n",
    "\n",
    "The `obs_space_format()` function formats the observation space filtering all the information provided by the `sixg_radio_mgmt` environment in accordance to our agent needs. For example, the simulator environment in each step provide us with the following environment information:\n",
    "- \"pkt_incoming\"\n",
    "- \"pkt_throughputs\"\n",
    "- \"pkt_effective_thr\"\n",
    "- \"buffer_occupancies\"\n",
    "- \"buffer_latencies\"\n",
    "- \"dropped_pkts\"\n",
    "- \"mobility\"\n",
    "- \"spectral_efficiencies\"\n",
    "- \"basestation_ue_assoc\"\n",
    "- \"basestation_slice_assoc\"\n",
    "- \"slice_ue_assoc\"\n",
    "- \"sched_decision\"\n",
    "- \"slice_req\"\n",
    "\n",
    "But in the `obs_space_format()` function, we are selecting only the `basestation_ue_assoc` since it is the unique information needed for the round-robin implementation."
   ]
  },
  {
   "cell_type": "markdown",
   "metadata": {},
   "source": [
    "The `action_format()` is the responsible to format the agent `step()` function output (scheduling decision) to the format expected by the simulator. The scheduling decision is formatted as a matrix with dimensions $B$ x $U$ x $R$ with each element having value 1 to indicate that the RB was allocated to the UE in a specific basestation, or 0 otherwise. A possible scheduling decision variable for our scenario is `[ [[1, 0], [0, 1]], [[0, 1],[1, 0]] ]`, which indicates that in the first basestation the RB 1 was allocated to the UE 1, and the second RB was allocated to UE 2. In the basestation 2, the UE 1 received the RB 2 and the UE 2 received the RB 1.\n",
    "\n",
    "Independent of the method used (RL, ML, heuristic...) the `action_format()` function needs to convert the method output to the format accepted by the simulator. In our scenario of the cell below, the `step()` function output already obbeys the matrix dimensions $B$ x $U$ x $R$, so the `action_format()` only returns the action generated by the `step()` function."
   ]
  },
  {
   "cell_type": "markdown",
   "metadata": {},
   "source": [
    "The `calculated_reward()` function is usually associated to the RL training process, so it is not needed in this moment that we are implementing a round-robin agent."
   ]
  },
  {
   "cell_type": "markdown",
   "metadata": {},
   "source": [
    "Finally, the `step()` function will receive the filtered observation space obtained from `obs_space_format()` function, and it will generate the scheduling decision to be used in the `action_format()` function to be used in the `sixg_radio_mgmt` environment. The `step()` function first creates an `allocation_rbs` variable with dimension $B$ x $U$ x $R$, and after starts to equally allocate the RBs available for each UE in the basestations that they are connected."
   ]
  },
  {
   "cell_type": "code",
   "execution_count": 17,
   "metadata": {},
   "outputs": [],
   "source": [
    "# %load agents/round_robin.py\n",
    "from typing import Union\n",
    "\n",
    "import numpy as np\n",
    "\n",
    "from sixg_radio_mgmt import Agent, CommunicationEnv\n",
    "\n",
    "\n",
    "class RoundRobin(Agent):\n",
    "    def __init__(\n",
    "        self,\n",
    "        env: CommunicationEnv,\n",
    "        max_number_ues: int,\n",
    "        max_number_basestations: int,\n",
    "        num_available_rbs: np.ndarray,\n",
    "    ) -> None:\n",
    "        super().__init__(\n",
    "            env, max_number_ues, max_number_basestations, num_available_rbs\n",
    "        )\n",
    "\n",
    "    def step(self, obs_space: Union[np.ndarray, dict]) -> np.ndarray:\n",
    "        allocation_rbs = [\n",
    "            np.zeros((self.max_number_ues, self.num_available_rbs[basestation]))\n",
    "            for basestation in np.arange(self.max_number_basestations)\n",
    "        ]\n",
    "        for basestation in np.arange(self.max_number_basestations):\n",
    "            ue_idx = 0\n",
    "            rb_idx = 0\n",
    "            while rb_idx < self.num_available_rbs[basestation]:\n",
    "                if obs_space[basestation][ue_idx] == 1:\n",
    "                    allocation_rbs[basestation][ue_idx][rb_idx] += 1\n",
    "                    rb_idx += 1\n",
    "                ue_idx += 1 if ue_idx + 1 != self.max_number_ues else -ue_idx\n",
    "\n",
    "        return np.array(allocation_rbs)\n",
    "\n",
    "    def obs_space_format(self, obs_space: dict) -> np.ndarray:\n",
    "        return np.array(obs_space[\"basestation_ue_assoc\"])\n",
    "\n",
    "    def calculate_reward(self, obs_space: dict) -> float:\n",
    "        return 0\n",
    "\n",
    "    def action_format(self, action: np.ndarray) -> np.ndarray:\n",
    "        return action\n"
   ]
  },
  {
   "cell_type": "markdown",
   "metadata": {},
   "source": [
    "### Executing the round-robin agent in the configured environment\n"
   ]
  },
  {
   "cell_type": "code",
   "execution_count": 18,
   "metadata": {},
   "outputs": [
    {
     "name": "stderr",
     "output_type": "stream",
     "text": [
      "100%|██████████| 10/10 [00:00<00:00, 327.05it/s]\n"
     ]
    }
   ],
   "source": [
    "import numpy as np\n",
    "from tqdm import tqdm\n",
    "\n",
    "from agents.round_robin import RoundRobin\n",
    "from channels.simple import SimpleChannel\n",
    "from mobilities.simple import SimpleMobility\n",
    "from sixg_radio_mgmt import CommunicationEnv\n",
    "from traffics.simple import SimpleTraffic\n",
    "\n",
    "seed = 10\n",
    "rng = np.random.default_rng(seed) if seed != -1 else np.random.default_rng()\n",
    "comm_env = CommunicationEnv(\n",
    "    SimpleChannel,\n",
    "    SimpleTraffic,\n",
    "    SimpleMobility,\n",
    "    \"simple\",\n",
    "    rng=rng,\n",
    ")\n",
    "\n",
    "round_robin = RoundRobin(comm_env, 2, 2, np.array([2, 2]))\n",
    "comm_env.set_agent_functions(\n",
    "    round_robin.obs_space_format,\n",
    "    round_robin.action_format,\n",
    "    round_robin.calculate_reward,\n",
    ")\n",
    "\n",
    "obs = comm_env.reset()\n",
    "number_steps = 10\n",
    "for step_number in tqdm(np.arange(comm_env.max_number_steps)):\n",
    "    sched_decision = round_robin.step(obs)\n",
    "    obs, _, end_ep, _ = comm_env.step(sched_decision)\n",
    "    if end_ep:\n",
    "        comm_env.reset()"
   ]
  }
 ],
 "metadata": {
  "kernelspec": {
   "display_name": "Python 3.7.13 ('ai6g-xssCGMI2')",
   "language": "python",
   "name": "python3"
  },
  "language_info": {
   "codemirror_mode": {
    "name": "ipython",
    "version": 3
   },
   "file_extension": ".py",
   "mimetype": "text/x-python",
   "name": "python",
   "nbconvert_exporter": "python",
   "pygments_lexer": "ipython3",
   "version": "3.7.13"
  },
  "orig_nbformat": 4,
  "vscode": {
   "interpreter": {
    "hash": "dac2514730ec6dd4fc1d04cb6927967d7376870f25ae7edf50b318831380a3e7"
   }
  }
 },
 "nbformat": 4,
 "nbformat_minor": 2
}
